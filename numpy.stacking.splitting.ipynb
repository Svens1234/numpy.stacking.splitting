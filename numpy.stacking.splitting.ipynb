{
 "cells": [
  {
   "cell_type": "code",
   "execution_count": 1,
   "id": "fe5cfcc5",
   "metadata": {},
   "outputs": [],
   "source": [
    "import numpy as np\n",
    "import matplotlib.pyplot as plt"
   ]
  },
  {
   "cell_type": "code",
   "execution_count": 6,
   "id": "02d15efc",
   "metadata": {},
   "outputs": [],
   "source": [
    "ss_arr_1 = np.random.randint(10, size=(2, 2))"
   ]
  },
  {
   "cell_type": "code",
   "execution_count": 7,
   "id": "226d7a1d",
   "metadata": {},
   "outputs": [
    {
     "name": "stdout",
     "output_type": "stream",
     "text": [
      "ss_arr_1\n",
      " [[5 3]\n",
      " [1 2]]\n"
     ]
    }
   ],
   "source": [
    "print(\"ss_arr_1\\n\", ss_arr_1)"
   ]
  },
  {
   "cell_type": "code",
   "execution_count": 8,
   "id": "22d57a2f",
   "metadata": {},
   "outputs": [],
   "source": [
    "ss_arr_2 = np.random.randint(10, size=(2, 2))"
   ]
  },
  {
   "cell_type": "code",
   "execution_count": 9,
   "id": "cb25cde0",
   "metadata": {},
   "outputs": [
    {
     "name": "stdout",
     "output_type": "stream",
     "text": [
      "ss_arr_2\n",
      " [[1 3]\n",
      " [9 8]]\n"
     ]
    }
   ],
   "source": [
    "print(\"ss_arr_2\\n\", ss_arr_2)"
   ]
  },
  {
   "cell_type": "code",
   "execution_count": 10,
   "id": "b074bee1",
   "metadata": {},
   "outputs": [
    {
     "data": {
      "text/plain": [
       "array([[5, 3],\n",
       "       [1, 2],\n",
       "       [1, 3],\n",
       "       [9, 8]])"
      ]
     },
     "execution_count": 10,
     "metadata": {},
     "output_type": "execute_result"
    }
   ],
   "source": [
    "np.vstack((ss_arr_1, ss_arr_2))"
   ]
  },
  {
   "cell_type": "code",
   "execution_count": 11,
   "id": "896852b2",
   "metadata": {},
   "outputs": [
    {
     "data": {
      "text/plain": [
       "array([[5, 3, 1, 3],\n",
       "       [1, 2, 9, 8]])"
      ]
     },
     "execution_count": 11,
     "metadata": {},
     "output_type": "execute_result"
    }
   ],
   "source": [
    "np.hstack((ss_arr_1, ss_arr_2))"
   ]
  },
  {
   "cell_type": "code",
   "execution_count": 14,
   "id": "3c0ba1f5",
   "metadata": {},
   "outputs": [
    {
     "name": "stdout",
     "output_type": "stream",
     "text": [
      "ss_arr_3\n",
      " [[5 3]]\n"
     ]
    }
   ],
   "source": [
    "ss_arr_3 = np.delete(ss_arr_1, 1, 0)\n",
    "print(\"ss_arr_3\\n\", ss_arr_3)"
   ]
  },
  {
   "cell_type": "code",
   "execution_count": 15,
   "id": "3434bb45",
   "metadata": {},
   "outputs": [
    {
     "name": "stdout",
     "output_type": "stream",
     "text": [
      "ss_arr_4\n",
      " [[1 3]]\n"
     ]
    }
   ],
   "source": [
    "ss_arr_4 = np.delete(ss_arr_2, 1, 0)\n",
    "print(\"ss_arr_4\\n\", ss_arr_4)"
   ]
  },
  {
   "cell_type": "code",
   "execution_count": 16,
   "id": "b3feacda",
   "metadata": {},
   "outputs": [
    {
     "data": {
      "text/plain": [
       "array([[5, 3, 1, 3]])"
      ]
     },
     "execution_count": 16,
     "metadata": {},
     "output_type": "execute_result"
    }
   ],
   "source": [
    "np.column_stack((ss_arr_3, ss_arr_4))"
   ]
  },
  {
   "cell_type": "code",
   "execution_count": 17,
   "id": "69ba475b",
   "metadata": {},
   "outputs": [
    {
     "data": {
      "text/plain": [
       "array([[5, 3],\n",
       "       [1, 3]])"
      ]
     },
     "execution_count": 17,
     "metadata": {},
     "output_type": "execute_result"
    }
   ],
   "source": [
    "np.row_stack((ss_arr_3, ss_arr_4))"
   ]
  },
  {
   "cell_type": "code",
   "execution_count": 18,
   "id": "3e09b98b",
   "metadata": {},
   "outputs": [],
   "source": [
    "ss_arr_5 = np.random.randint(10, size=(2, 10))"
   ]
  },
  {
   "cell_type": "code",
   "execution_count": 19,
   "id": "3156f8c4",
   "metadata": {},
   "outputs": [
    {
     "name": "stdout",
     "output_type": "stream",
     "text": [
      "ss_arr_5\n",
      " [[7 4 7 0 5 6 2 7 4 6]\n",
      " [9 2 7 8 9 2 9 7 5 3]]\n"
     ]
    }
   ],
   "source": [
    "print(\"ss_arr_5\\n\", ss_arr_5)"
   ]
  },
  {
   "cell_type": "code",
   "execution_count": 20,
   "id": "851329a7",
   "metadata": {},
   "outputs": [
    {
     "data": {
      "text/plain": [
       "[array([[7, 4],\n",
       "        [9, 2]]),\n",
       " array([[7, 0],\n",
       "        [7, 8]]),\n",
       " array([[5, 6],\n",
       "        [9, 2]]),\n",
       " array([[2, 7],\n",
       "        [9, 7]]),\n",
       " array([[4, 6],\n",
       "        [5, 3]])]"
      ]
     },
     "execution_count": 20,
     "metadata": {},
     "output_type": "execute_result"
    }
   ],
   "source": [
    "np.hsplit(ss_arr_5, 5)"
   ]
  },
  {
   "cell_type": "code",
   "execution_count": 21,
   "id": "fbb262cb",
   "metadata": {},
   "outputs": [
    {
     "data": {
      "text/plain": [
       "[array([[7, 4],\n",
       "        [9, 2]]),\n",
       " array([[7, 0],\n",
       "        [7, 8]]),\n",
       " array([[5, 6, 2, 7, 4, 6],\n",
       "        [9, 2, 9, 7, 5, 3]])]"
      ]
     },
     "execution_count": 21,
     "metadata": {},
     "output_type": "execute_result"
    }
   ],
   "source": [
    "np.hsplit(ss_arr_5, (2, 4))"
   ]
  },
  {
   "cell_type": "code",
   "execution_count": null,
   "id": "f3011eaf",
   "metadata": {},
   "outputs": [],
   "source": []
  }
 ],
 "metadata": {
  "kernelspec": {
   "display_name": "Python 3 (ipykernel)",
   "language": "python",
   "name": "python3"
  },
  "language_info": {
   "codemirror_mode": {
    "name": "ipython",
    "version": 3
   },
   "file_extension": ".py",
   "mimetype": "text/x-python",
   "name": "python",
   "nbconvert_exporter": "python",
   "pygments_lexer": "ipython3",
   "version": "3.8.7"
  }
 },
 "nbformat": 4,
 "nbformat_minor": 5
}
